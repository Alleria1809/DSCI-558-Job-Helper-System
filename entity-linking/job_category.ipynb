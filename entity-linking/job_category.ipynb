{
  "nbformat": 4,
  "nbformat_minor": 0,
  "metadata": {
    "colab": {
      "provenance": []
    },
    "kernelspec": {
      "name": "python3",
      "display_name": "Python 3"
    },
    "language_info": {
      "name": "python"
    }
  },
  "cells": [
    {
      "cell_type": "code",
      "execution_count": 1,
      "metadata": {
        "id": "TxsJhwCKTgZ2"
      },
      "outputs": [],
      "source": [
        "import spacy\n",
        "from gensim.parsing.preprocessing import strip_tags\n",
        "import nltk\n",
        "from nltk.corpus import stopwords\n",
        "from nltk.tokenize import word_tokenize\n",
        "from nltk.stem import WordNetLemmatizer\n",
        "\n",
        "import sklearn\n",
        "from sklearn.model_selection import train_test_split\n",
        "from sklearn.feature_extraction.text import TfidfVectorizer\n",
        "\n",
        "from sklearn.naive_bayes import MultinomialNB\n",
        "from sklearn.tree import DecisionTreeClassifier\n",
        "from sklearn.linear_model import LogisticRegression\n",
        "from sklearn.svm import LinearSVC\n",
        "\n",
        "from sklearn.pipeline import Pipeline\n",
        "from sklearn.model_selection import GridSearchCV\n",
        "from sklearn.model_selection import StratifiedShuffleSplit\n",
        "from sklearn.metrics import accuracy_score, classification_report\n",
        "\n",
        "import joblib\n",
        "import pandas as pd\n",
        "import numpy as np\n",
        "import re\n",
        "\n",
        "import matplotlib.pyplot as plt\n",
        "import matplotlib.pylab as pylab\n",
        "params = {'figure.figsize': (15, 10),\n",
        "         'axes.labelsize': 'x-large',\n",
        "         'axes.titlesize':'x-large'}\n",
        "\n",
        "pylab.rcParams.update(params)\n",
        "\n",
        "import warnings\n",
        "warnings.filterwarnings(\"ignore\")\n",
        "\n",
        "import tqdm\n",
        "from spacy.tokenizer import Tokenizer\n"
      ]
    },
    {
      "cell_type": "code",
      "source": [
        "nltk.download('omw-1.4')"
      ],
      "metadata": {
        "colab": {
          "base_uri": "https://localhost:8080/"
        },
        "id": "SG8VEU1Gg4IL",
        "outputId": "0c9704c3-97f6-43e4-dd2d-783a947f930a"
      },
      "execution_count": 2,
      "outputs": [
        {
          "output_type": "stream",
          "name": "stderr",
          "text": [
            "[nltk_data] Downloading package omw-1.4 to /root/nltk_data...\n"
          ]
        },
        {
          "output_type": "execute_result",
          "data": {
            "text/plain": [
              "True"
            ]
          },
          "metadata": {},
          "execution_count": 2
        }
      ]
    },
    {
      "cell_type": "code",
      "source": [
        "class SpacyTokenizer():\n",
        "    '''\n",
        "    Custom tokenizer\n",
        "    '''\n",
        "    def __init__(self, model='en_core_web_sm'):\n",
        "        self.model = model\n",
        "        self.nlp = spacy.load(model)\n",
        "        self.spacy_tokenizer = Tokenizer(self.nlp.vocab)\n",
        "        #self.spacy_tokenizer = self.nlp.Defaults.create_tokenizer(self.nlp)\n",
        "        self.stop_words = self.nlp.Defaults.stop_words\n",
        "    \n",
        "def get_top_n_words(corpus: np.ndarray, n: int=5, ngram_range: tuple=(1,3)):\n",
        "    '''\n",
        "    Get top common n-grams in corpus.\n",
        "    \n",
        "    Parameters:\n",
        "    corpus: np.ndarray\n",
        "        Array of texts.\n",
        "    n: int (default: 5)\n",
        "        Number of top n-grams to return.\n",
        "    ngram_range: tuple (default: (1,3))\n",
        "        Range of n-grams.\n",
        "        \n",
        "    Returns:\n",
        "        np.ndarray: list of top common n-grams.\n",
        "        \n",
        "    '''\n",
        "    tf_idf_vec = TfidfVectorizer(ngram_range=ngram_range, max_features=2000)\n",
        "    tf_idf_vec.fit_transform(corpus)\n",
        "\n",
        "    bag_of_words = tf_idf_vec.transform(corpus)\n",
        "    \n",
        "    sum_words = bag_of_words.sum(axis=0) \n",
        "    words_freq = [(word, sum_words[0, idx]) for word, idx in     \n",
        "                  tf_idf_vec.vocabulary_.items()]\n",
        "    words_freq = sorted(words_freq, key = lambda x: x[1], reverse=True)\n",
        "    \n",
        "    return words_freq[:n]\n",
        "\n",
        "def tune_pipeline(pipeline: sklearn.pipeline, parameters: np.ndarray, X: pd.Series, y: pd.Series, n_splits: int=2):\n",
        "    '''\n",
        "    Find the best parameters for pipeline.\n",
        "    \n",
        "    Parameters:\n",
        "    pipeline: sklearn.pipeline\n",
        "        Pipeline for tunning.\n",
        "    parameters: np.ndarray\n",
        "        List of parameters are used for tunning.\n",
        "    X: pd.Series\n",
        "        Training vector.\n",
        "    y: pd.Series\n",
        "        Target vector relative to X.\n",
        "    n_splits: int (default: 2)\n",
        "        Number of re-shuffling and splitting iterations.\n",
        "    \n",
        "    Returns:\n",
        "        sklearn.pipeline: tunned pipeline.\n",
        "    '''\n",
        "    grid_search = GridSearchCV(pipeline, parameters, \n",
        "        cv=StratifiedShuffleSplit(n_splits=2, test_size=0.2, random_state=42),\n",
        "        n_jobs=-1, verbose=10)\n",
        "    \n",
        "    grid_search.fit(X, y)\n",
        "    \n",
        "    return grid_search.best_estimator_"
      ],
      "metadata": {
        "id": "HshAZQJbTniW"
      },
      "execution_count": 3,
      "outputs": []
    },
    {
      "cell_type": "code",
      "source": [],
      "metadata": {
        "id": "pnteLU50jR27"
      },
      "execution_count": null,
      "outputs": []
    },
    {
      "cell_type": "markdown",
      "source": [
        "### read data"
      ],
      "metadata": {
        "id": "YmUIZ14GTv1k"
      }
    },
    {
      "cell_type": "code",
      "source": [
        "df = pd.read_csv('./job_category.csv')\n",
        "df.head()"
      ],
      "metadata": {
        "colab": {
          "base_uri": "https://localhost:8080/",
          "height": 472
        },
        "id": "_S06mP9e4QaQ",
        "outputId": "82105d7e-0c82-48b4-80fa-5d17665122be"
      },
      "execution_count": 5,
      "outputs": [
        {
          "output_type": "execute_result",
          "data": {
            "text/plain": [
              "   ID    source                                job_title  \\\n",
              "0   1  linkedin                           Data Scientist   \n",
              "1   2  linkedin           Data Review Scientist II - CMB   \n",
              "2   3  linkedin  Comcast Cybersecurity: Data Scientist 5   \n",
              "3   4  linkedin                           Data Scientist   \n",
              "4   5  linkedin                           DATA SCIENTIST   \n",
              "\n",
              "                      company_name        location  \\\n",
              "0                          ManTech     Hanover, MD   \n",
              "1  Eurofins Lancaster Laboratories   Lancaster, PA   \n",
              "2                          Comcast  Washington, DC   \n",
              "3                             Dice   United States   \n",
              "4                             Dice  Texas City, TX   \n",
              "\n",
              "                                         job_details  \\\n",
              "0  \\n        \\nSecure our Nation, Ignite your Fut...   \n",
              "1  \\n        \\nCompany Description\\nEurofins Scie...   \n",
              "2  \\n        R349592\\nComcast’s Technology, Produ...   \n",
              "3  \\n        Dice is the leading career destinati...   \n",
              "4  \\n        Dice is the leading career destinati...   \n",
              "\n",
              "                                     job_requirement  \\\n",
              "0  \"bachelor's degree in a quantitative disciplin...   \n",
              "1  the ideal candidate would possess:\\nstrong com...   \n",
              "2                                         10 years +   \n",
              "3  ice to have skills technical skills aws//googl...   \n",
              "4  proven experience as a data scientist or data ...   \n",
              "\n",
              "                      salary  work_type  \\\n",
              "0                        NaN  Full-time   \n",
              "1                        NaN  Full-time   \n",
              "2  $133,117.31 - $199,675.96  Full-time   \n",
              "3                        NaN   Contract   \n",
              "4                        NaN   Contract   \n",
              "\n",
              "                                                 url    job_category  \\\n",
              "0  https://www.linkedin.com/jobs/view/3363903657/...  Data Scientist   \n",
              "1  https://www.linkedin.com/jobs/view/3363499807/...  Data Scientist   \n",
              "2  https://www.linkedin.com/jobs/view/3358732815/...  Data Scientist   \n",
              "3  https://www.linkedin.com/jobs/view/3369999037/...  Data Scientist   \n",
              "4  https://www.linkedin.com/jobs/view/3369997451/...  Data Scientist   \n",
              "\n",
              "                                         company_url   DIPLOMA  \\\n",
              "0  https://www.linkedin.com/company/mantech?trk=p...  bachelor   \n",
              "1  https://www.linkedin.com/company/lancaster-lab...  bachelor   \n",
              "2  https://www.linkedin.com/company/comcast?trk=p...       NaN   \n",
              "3  https://www.linkedin.com/company/dice?trk=publ...       NaN   \n",
              "4  https://www.linkedin.com/company/dice?trk=publ...  graduate   \n",
              "\n",
              "                                              SKILLS  \\\n",
              "0  analytics;python;computer;matlab;r;computer pr...   \n",
              "1  data science;adaptability;protein;computer;bio...   \n",
              "2                                                NaN   \n",
              "3  data modeling;technology analytics;domain;tech...   \n",
              "4  data mining;business;java;scala;data scientist...   \n",
              "\n",
              "                                       DIPLOMA_MAJOR  \\\n",
              "0  operations research;mathematics;computer scien...   \n",
              "1                                  biology;chemistry   \n",
              "2                                                NaN   \n",
              "3                                                NaN   \n",
              "4                      data science;computer science   \n",
              "\n",
              "                       EXPERIENCE     state/area        city  \n",
              "0  5-15+ years;5-10+ years;1 year             MD     Hanover  \n",
              "1                             NaN             PA   Lancaster  \n",
              "2                        10 years             DC  Washington  \n",
              "3                             NaN  United States         NaN  \n",
              "4                             NaN             TX  Texas City  "
            ],
            "text/html": [
              "\n",
              "  <div id=\"df-07e3fd0d-f0c8-4330-92b6-ac24d0c858d7\">\n",
              "    <div class=\"colab-df-container\">\n",
              "      <div>\n",
              "<style scoped>\n",
              "    .dataframe tbody tr th:only-of-type {\n",
              "        vertical-align: middle;\n",
              "    }\n",
              "\n",
              "    .dataframe tbody tr th {\n",
              "        vertical-align: top;\n",
              "    }\n",
              "\n",
              "    .dataframe thead th {\n",
              "        text-align: right;\n",
              "    }\n",
              "</style>\n",
              "<table border=\"1\" class=\"dataframe\">\n",
              "  <thead>\n",
              "    <tr style=\"text-align: right;\">\n",
              "      <th></th>\n",
              "      <th>ID</th>\n",
              "      <th>source</th>\n",
              "      <th>job_title</th>\n",
              "      <th>company_name</th>\n",
              "      <th>location</th>\n",
              "      <th>job_details</th>\n",
              "      <th>job_requirement</th>\n",
              "      <th>salary</th>\n",
              "      <th>work_type</th>\n",
              "      <th>url</th>\n",
              "      <th>job_category</th>\n",
              "      <th>company_url</th>\n",
              "      <th>DIPLOMA</th>\n",
              "      <th>SKILLS</th>\n",
              "      <th>DIPLOMA_MAJOR</th>\n",
              "      <th>EXPERIENCE</th>\n",
              "      <th>state/area</th>\n",
              "      <th>city</th>\n",
              "    </tr>\n",
              "  </thead>\n",
              "  <tbody>\n",
              "    <tr>\n",
              "      <th>0</th>\n",
              "      <td>1</td>\n",
              "      <td>linkedin</td>\n",
              "      <td>Data Scientist</td>\n",
              "      <td>ManTech</td>\n",
              "      <td>Hanover, MD</td>\n",
              "      <td>\\n        \\nSecure our Nation, Ignite your Fut...</td>\n",
              "      <td>\"bachelor's degree in a quantitative disciplin...</td>\n",
              "      <td>NaN</td>\n",
              "      <td>Full-time</td>\n",
              "      <td>https://www.linkedin.com/jobs/view/3363903657/...</td>\n",
              "      <td>Data Scientist</td>\n",
              "      <td>https://www.linkedin.com/company/mantech?trk=p...</td>\n",
              "      <td>bachelor</td>\n",
              "      <td>analytics;python;computer;matlab;r;computer pr...</td>\n",
              "      <td>operations research;mathematics;computer scien...</td>\n",
              "      <td>5-15+ years;5-10+ years;1 year</td>\n",
              "      <td>MD</td>\n",
              "      <td>Hanover</td>\n",
              "    </tr>\n",
              "    <tr>\n",
              "      <th>1</th>\n",
              "      <td>2</td>\n",
              "      <td>linkedin</td>\n",
              "      <td>Data Review Scientist II - CMB</td>\n",
              "      <td>Eurofins Lancaster Laboratories</td>\n",
              "      <td>Lancaster, PA</td>\n",
              "      <td>\\n        \\nCompany Description\\nEurofins Scie...</td>\n",
              "      <td>the ideal candidate would possess:\\nstrong com...</td>\n",
              "      <td>NaN</td>\n",
              "      <td>Full-time</td>\n",
              "      <td>https://www.linkedin.com/jobs/view/3363499807/...</td>\n",
              "      <td>Data Scientist</td>\n",
              "      <td>https://www.linkedin.com/company/lancaster-lab...</td>\n",
              "      <td>bachelor</td>\n",
              "      <td>data science;adaptability;protein;computer;bio...</td>\n",
              "      <td>biology;chemistry</td>\n",
              "      <td>NaN</td>\n",
              "      <td>PA</td>\n",
              "      <td>Lancaster</td>\n",
              "    </tr>\n",
              "    <tr>\n",
              "      <th>2</th>\n",
              "      <td>3</td>\n",
              "      <td>linkedin</td>\n",
              "      <td>Comcast Cybersecurity: Data Scientist 5</td>\n",
              "      <td>Comcast</td>\n",
              "      <td>Washington, DC</td>\n",
              "      <td>\\n        R349592\\nComcast’s Technology, Produ...</td>\n",
              "      <td>10 years +</td>\n",
              "      <td>$133,117.31 - $199,675.96</td>\n",
              "      <td>Full-time</td>\n",
              "      <td>https://www.linkedin.com/jobs/view/3358732815/...</td>\n",
              "      <td>Data Scientist</td>\n",
              "      <td>https://www.linkedin.com/company/comcast?trk=p...</td>\n",
              "      <td>NaN</td>\n",
              "      <td>NaN</td>\n",
              "      <td>NaN</td>\n",
              "      <td>10 years</td>\n",
              "      <td>DC</td>\n",
              "      <td>Washington</td>\n",
              "    </tr>\n",
              "    <tr>\n",
              "      <th>3</th>\n",
              "      <td>4</td>\n",
              "      <td>linkedin</td>\n",
              "      <td>Data Scientist</td>\n",
              "      <td>Dice</td>\n",
              "      <td>United States</td>\n",
              "      <td>\\n        Dice is the leading career destinati...</td>\n",
              "      <td>ice to have skills technical skills aws//googl...</td>\n",
              "      <td>NaN</td>\n",
              "      <td>Contract</td>\n",
              "      <td>https://www.linkedin.com/jobs/view/3369999037/...</td>\n",
              "      <td>Data Scientist</td>\n",
              "      <td>https://www.linkedin.com/company/dice?trk=publ...</td>\n",
              "      <td>NaN</td>\n",
              "      <td>data modeling;technology analytics;domain;tech...</td>\n",
              "      <td>NaN</td>\n",
              "      <td>NaN</td>\n",
              "      <td>United States</td>\n",
              "      <td>NaN</td>\n",
              "    </tr>\n",
              "    <tr>\n",
              "      <th>4</th>\n",
              "      <td>5</td>\n",
              "      <td>linkedin</td>\n",
              "      <td>DATA SCIENTIST</td>\n",
              "      <td>Dice</td>\n",
              "      <td>Texas City, TX</td>\n",
              "      <td>\\n        Dice is the leading career destinati...</td>\n",
              "      <td>proven experience as a data scientist or data ...</td>\n",
              "      <td>NaN</td>\n",
              "      <td>Contract</td>\n",
              "      <td>https://www.linkedin.com/jobs/view/3369997451/...</td>\n",
              "      <td>Data Scientist</td>\n",
              "      <td>https://www.linkedin.com/company/dice?trk=publ...</td>\n",
              "      <td>graduate</td>\n",
              "      <td>data mining;business;java;scala;data scientist...</td>\n",
              "      <td>data science;computer science</td>\n",
              "      <td>NaN</td>\n",
              "      <td>TX</td>\n",
              "      <td>Texas City</td>\n",
              "    </tr>\n",
              "  </tbody>\n",
              "</table>\n",
              "</div>\n",
              "      <button class=\"colab-df-convert\" onclick=\"convertToInteractive('df-07e3fd0d-f0c8-4330-92b6-ac24d0c858d7')\"\n",
              "              title=\"Convert this dataframe to an interactive table.\"\n",
              "              style=\"display:none;\">\n",
              "        \n",
              "  <svg xmlns=\"http://www.w3.org/2000/svg\" height=\"24px\"viewBox=\"0 0 24 24\"\n",
              "       width=\"24px\">\n",
              "    <path d=\"M0 0h24v24H0V0z\" fill=\"none\"/>\n",
              "    <path d=\"M18.56 5.44l.94 2.06.94-2.06 2.06-.94-2.06-.94-.94-2.06-.94 2.06-2.06.94zm-11 1L8.5 8.5l.94-2.06 2.06-.94-2.06-.94L8.5 2.5l-.94 2.06-2.06.94zm10 10l.94 2.06.94-2.06 2.06-.94-2.06-.94-.94-2.06-.94 2.06-2.06.94z\"/><path d=\"M17.41 7.96l-1.37-1.37c-.4-.4-.92-.59-1.43-.59-.52 0-1.04.2-1.43.59L10.3 9.45l-7.72 7.72c-.78.78-.78 2.05 0 2.83L4 21.41c.39.39.9.59 1.41.59.51 0 1.02-.2 1.41-.59l7.78-7.78 2.81-2.81c.8-.78.8-2.07 0-2.86zM5.41 20L4 18.59l7.72-7.72 1.47 1.35L5.41 20z\"/>\n",
              "  </svg>\n",
              "      </button>\n",
              "      \n",
              "  <style>\n",
              "    .colab-df-container {\n",
              "      display:flex;\n",
              "      flex-wrap:wrap;\n",
              "      gap: 12px;\n",
              "    }\n",
              "\n",
              "    .colab-df-convert {\n",
              "      background-color: #E8F0FE;\n",
              "      border: none;\n",
              "      border-radius: 50%;\n",
              "      cursor: pointer;\n",
              "      display: none;\n",
              "      fill: #1967D2;\n",
              "      height: 32px;\n",
              "      padding: 0 0 0 0;\n",
              "      width: 32px;\n",
              "    }\n",
              "\n",
              "    .colab-df-convert:hover {\n",
              "      background-color: #E2EBFA;\n",
              "      box-shadow: 0px 1px 2px rgba(60, 64, 67, 0.3), 0px 1px 3px 1px rgba(60, 64, 67, 0.15);\n",
              "      fill: #174EA6;\n",
              "    }\n",
              "\n",
              "    [theme=dark] .colab-df-convert {\n",
              "      background-color: #3B4455;\n",
              "      fill: #D2E3FC;\n",
              "    }\n",
              "\n",
              "    [theme=dark] .colab-df-convert:hover {\n",
              "      background-color: #434B5C;\n",
              "      box-shadow: 0px 1px 3px 1px rgba(0, 0, 0, 0.15);\n",
              "      filter: drop-shadow(0px 1px 2px rgba(0, 0, 0, 0.3));\n",
              "      fill: #FFFFFF;\n",
              "    }\n",
              "  </style>\n",
              "\n",
              "      <script>\n",
              "        const buttonEl =\n",
              "          document.querySelector('#df-07e3fd0d-f0c8-4330-92b6-ac24d0c858d7 button.colab-df-convert');\n",
              "        buttonEl.style.display =\n",
              "          google.colab.kernel.accessAllowed ? 'block' : 'none';\n",
              "\n",
              "        async function convertToInteractive(key) {\n",
              "          const element = document.querySelector('#df-07e3fd0d-f0c8-4330-92b6-ac24d0c858d7');\n",
              "          const dataTable =\n",
              "            await google.colab.kernel.invokeFunction('convertToInteractive',\n",
              "                                                     [key], {});\n",
              "          if (!dataTable) return;\n",
              "\n",
              "          const docLinkHtml = 'Like what you see? Visit the ' +\n",
              "            '<a target=\"_blank\" href=https://colab.research.google.com/notebooks/data_table.ipynb>data table notebook</a>'\n",
              "            + ' to learn more about interactive tables.';\n",
              "          element.innerHTML = '';\n",
              "          dataTable['output_type'] = 'display_data';\n",
              "          await google.colab.output.renderOutput(dataTable, element);\n",
              "          const docLink = document.createElement('div');\n",
              "          docLink.innerHTML = docLinkHtml;\n",
              "          element.appendChild(docLink);\n",
              "        }\n",
              "      </script>\n",
              "    </div>\n",
              "  </div>\n",
              "  "
            ]
          },
          "metadata": {},
          "execution_count": 5
        }
      ]
    },
    {
      "cell_type": "code",
      "source": [
        "df['job_category'] = df['job_category'].apply(lambda x: x.lower())"
      ],
      "metadata": {
        "id": "3Vkjl5UJ4VAR"
      },
      "execution_count": null,
      "outputs": []
    },
    {
      "cell_type": "code",
      "source": [
        "top = df['job_category'].value_counts().index.tolist()"
      ],
      "metadata": {
        "id": "AHWa-ey94KKv"
      },
      "execution_count": 55,
      "outputs": []
    },
    {
      "cell_type": "code",
      "source": [
        "top"
      ],
      "metadata": {
        "colab": {
          "base_uri": "https://localhost:8080/"
        },
        "id": "FZwaukqKBNGR",
        "outputId": "ef76cdea-76ef-4143-fc52-fed95c23b83b"
      },
      "execution_count": 56,
      "outputs": [
        {
          "output_type": "execute_result",
          "data": {
            "text/plain": [
              "['Electrical Engineer',\n",
              " 'Business Analyst',\n",
              " 'Mechanical Engineer',\n",
              " 'Automation Tester',\n",
              " 'Civil Engineer',\n",
              " 'Web Designer',\n",
              " 'HR',\n",
              " 'Product Manager',\n",
              " 'Software Developer',\n",
              " 'Network Security Engineer',\n",
              " 'Operations Manager',\n",
              " 'Lawyer',\n",
              " 'Data Scientist',\n",
              " 'Artist',\n",
              " 'Salesman']"
            ]
          },
          "metadata": {},
          "execution_count": 56
        }
      ]
    },
    {
      "cell_type": "code",
      "source": [
        "dataset_df = df"
      ],
      "metadata": {
        "id": "Qws_ww4l-oE7"
      },
      "execution_count": 86,
      "outputs": []
    },
    {
      "cell_type": "code",
      "source": [
        "dataset_df = dataset_df.drop_duplicates('job_details')"
      ],
      "metadata": {
        "id": "vxnr9pe68HS7"
      },
      "execution_count": 87,
      "outputs": []
    },
    {
      "cell_type": "code",
      "source": [
        "# preprocess glassdoor\n",
        "remove_word = [\"nan\"]\n",
        "def tokenizer(text, text2):\n",
        "  text = strip_tags(str(text).lower())\n",
        "  text = re.sub(r\"[^A-Za-z]\", \" \", text)\n",
        "  spacy_tokens = word_tokenize(text)\n",
        "  #print(spacy_tokens)\n",
        "  stop_words = set(stopwords.words('english'))\n",
        "  result = []\n",
        "  for word in spacy_tokens:\n",
        "      if word not in stop_words and word not in remove_word:\n",
        "          result.append(word)\n",
        "\n",
        "  text2 = strip_tags(str(text2).lower())\n",
        "  text2 = re.sub(r\"[^A-Za-z]\", \" \", text2)\n",
        "  spacy_tokens2 = word_tokenize(text2)\n",
        "  #print(spacy_tokens)\n",
        "  result2 = []\n",
        "  for word in spacy_tokens2:\n",
        "      if word not in stop_words and word not in remove_word:\n",
        "          result2.append(word)\n",
        "\n",
        "  wordnet_lemmatizer = WordNetLemmatizer()\n",
        "  word_tokens = []\n",
        "  for word in result:\n",
        "      #w = wordnet_lemmatizer.lemmatize(word)\n",
        "      if len(word) > 1:\n",
        "          word_tokens.append(word)\n",
        "  for word in result2:\n",
        "      if len(word) > 1:\n",
        "          word_tokens.append(word)\n",
        "  #print(\"ok\")\n",
        "  return \" \".join(word_tokens)\n",
        "\n"
      ],
      "metadata": {
        "id": "DNbfKdk-0euv"
      },
      "execution_count": 71,
      "outputs": []
    },
    {
      "cell_type": "code",
      "source": [
        "nltk.download('punkt')"
      ],
      "metadata": {
        "colab": {
          "base_uri": "https://localhost:8080/"
        },
        "id": "7v0utOFm5Xir",
        "outputId": "2214f8d1-a667-466f-c745-c4100efdeafe"
      },
      "execution_count": 16,
      "outputs": [
        {
          "output_type": "stream",
          "name": "stderr",
          "text": [
            "[nltk_data] Downloading package punkt to /root/nltk_data...\n",
            "[nltk_data]   Unzipping tokenizers/punkt.zip.\n"
          ]
        },
        {
          "output_type": "execute_result",
          "data": {
            "text/plain": [
              "True"
            ]
          },
          "metadata": {},
          "execution_count": 16
        }
      ]
    },
    {
      "cell_type": "code",
      "source": [
        "nltk.download('stopwords')"
      ],
      "metadata": {
        "colab": {
          "base_uri": "https://localhost:8080/"
        },
        "id": "P8d_tTEz5ckV",
        "outputId": "9b7de92f-ecfd-4dfc-ba30-f87a7c572620"
      },
      "execution_count": 18,
      "outputs": [
        {
          "output_type": "stream",
          "name": "stderr",
          "text": [
            "[nltk_data] Downloading package stopwords to /root/nltk_data...\n",
            "[nltk_data]   Unzipping corpora/stopwords.zip.\n"
          ]
        },
        {
          "output_type": "execute_result",
          "data": {
            "text/plain": [
              "True"
            ]
          },
          "metadata": {},
          "execution_count": 18
        }
      ]
    },
    {
      "cell_type": "code",
      "source": [
        "dataset_df['info'] = dataset_df.apply(lambda x: tokenizer(x.SKILLS, x.job_title), axis=1)"
      ],
      "metadata": {
        "id": "A845NVdJ-Zrw"
      },
      "execution_count": 88,
      "outputs": []
    },
    {
      "cell_type": "code",
      "source": [
        "#dataset_df[\"SKILLS\"] = dataset_df[\"SKILLS\"].apply(lambda x: tokenizer(x))"
      ],
      "metadata": {
        "id": "IRZu-PPz38Kh"
      },
      "execution_count": 30,
      "outputs": []
    },
    {
      "cell_type": "code",
      "source": [
        "dataset_df = dataset_df[dataset_df[\"info\"] != 'nan']"
      ],
      "metadata": {
        "id": "pnN8rx4HCXsU"
      },
      "execution_count": 90,
      "outputs": []
    },
    {
      "cell_type": "code",
      "source": [
        "word_freq_dict = {}\n",
        "for query in tqdm.tqdm(dataset_df['job_category'].unique()):\n",
        "    #print(dataset_df[dataset_df['Category']==query]['Resume'])\n",
        "    word_freq_dict[query] = get_top_n_words(dataset_df[dataset_df['job_category']==query]['info'], n=10, ngram_range=(1,4))"
      ],
      "metadata": {
        "colab": {
          "base_uri": "https://localhost:8080/"
        },
        "id": "22H3WGE5ft3s",
        "outputId": "c852836e-450f-45f2-e1cb-ae2ff6afc6a0"
      },
      "execution_count": 92,
      "outputs": [
        {
          "output_type": "stream",
          "name": "stderr",
          "text": [
            "100%|██████████| 15/15 [00:02<00:00,  6.37it/s]\n"
          ]
        }
      ]
    },
    {
      "cell_type": "code",
      "source": [
        "for query in word_freq_dict:\n",
        "    stat_string = \"\\n\".join([f\"{word_freq[0]:35} {word_freq[1]:.2f}\" for word_freq in word_freq_dict[query]])\n",
        "    print(f'''\n",
        "===\n",
        "{query}\n",
        "\n",
        "{stat_string}\n",
        "    ''')"
      ],
      "metadata": {
        "colab": {
          "base_uri": "https://localhost:8080/"
        },
        "id": "ZCKguxA2lGL7",
        "outputId": "4e04a82e-43ec-430c-d91c-58c73e8f8e3c"
      },
      "execution_count": 93,
      "outputs": [
        {
          "output_type": "stream",
          "name": "stdout",
          "text": [
            "\n",
            "===\n",
            "Data Scientist\n",
            "\n",
            "data                                31.87\n",
            "scientist                           15.15\n",
            "data scientist                      14.65\n",
            "learning                            10.71\n",
            "python                              9.95\n",
            "machine                             9.33\n",
            "machine learning                    8.59\n",
            "analysis                            8.44\n",
            "software                            8.38\n",
            "sql                                 7.67\n",
            "    \n",
            "\n",
            "===\n",
            "HR\n",
            "\n",
            "human                               16.93\n",
            "resources                           15.26\n",
            "human resources                     15.16\n",
            "hr                                  14.03\n",
            "management                          11.67\n",
            "communication                       11.49\n",
            "specialist                          11.05\n",
            "written                             10.11\n",
            "office                              10.08\n",
            "microsoft                           9.28\n",
            "    \n",
            "\n",
            "===\n",
            "Lawyer\n",
            "\n",
            "attorney                            27.05\n",
            "law                                 13.63\n",
            "legal                               12.82\n",
            "counsel                             12.54\n",
            "litigation                          11.93\n",
            "associate                           10.08\n",
            "communication                       9.03\n",
            "associate attorney                  8.93\n",
            "insurance                           7.21\n",
            "defense                             6.84\n",
            "    \n",
            "\n",
            "===\n",
            "Artist\n",
            "\n",
            "artist                              10.35\n",
            "communication                       9.25\n",
            "design                              8.30\n",
            "coordinator                         8.05\n",
            "management                          6.58\n",
            "game                                6.20\n",
            "art                                 5.86\n",
            "painter                             5.68\n",
            "written                             5.64\n",
            "office                              5.27\n",
            "    \n",
            "\n",
            "===\n",
            "Web Designer\n",
            "\n",
            "design                              30.34\n",
            "web                                 24.66\n",
            "designer                            22.15\n",
            "digital                             20.89\n",
            "web designer                        12.77\n",
            "digital designer                    11.82\n",
            "adobe                               11.77\n",
            "creative                            11.54\n",
            "software                            10.73\n",
            "communication                       9.64\n",
            "    \n",
            "\n",
            "===\n",
            "Mechanical Engineer\n",
            "\n",
            "engineer                            21.68\n",
            "mechanical                          21.18\n",
            "manufacturing                       20.45\n",
            "design                              17.85\n",
            "quality                             16.00\n",
            "mechanical engineer                 14.87\n",
            "engineering                         11.42\n",
            "communication                       11.27\n",
            "systems                             10.59\n",
            "analysis                            10.28\n",
            "    \n",
            "\n",
            "===\n",
            "Salesman\n",
            "\n",
            "sales                               17.45\n",
            "representative                      8.39\n",
            "sales representative                8.11\n",
            "associate                           7.60\n",
            "communication                       7.34\n",
            "sales associate                     7.07\n",
            "customer                            6.57\n",
            "retail                              5.28\n",
            "written                             4.91\n",
            "service                             4.80\n",
            "    \n",
            "\n",
            "===\n",
            "Civil Engineer\n",
            "\n",
            "civil                               27.40\n",
            "engineer                            22.28\n",
            "civil engineer                      18.96\n",
            "design                              16.14\n",
            "construction                        13.78\n",
            "engineering                         13.21\n",
            "water                               12.54\n",
            "communication                       12.28\n",
            "autocad                             11.85\n",
            "environmental                       11.64\n",
            "    \n",
            "\n",
            "===\n",
            "Software Developer\n",
            "\n",
            "software                            17.20\n",
            "engineer                            13.52\n",
            "development                         11.27\n",
            "communication                       9.83\n",
            "developer                           9.13\n",
            "sales                               9.10\n",
            "management                          8.81\n",
            "data                                7.98\n",
            "design                              7.82\n",
            "software engineer                   7.65\n",
            "    \n",
            "\n",
            "===\n",
            "Business Analyst\n",
            "\n",
            "business                            36.62\n",
            "analyst                             25.72\n",
            "business analyst                    25.19\n",
            "management                          15.51\n",
            "data                                14.55\n",
            "communication                       13.29\n",
            "analysis                            12.63\n",
            "written                             10.81\n",
            "process                             9.97\n",
            "analytical                          9.95\n",
            "    \n",
            "\n",
            "===\n",
            "Automation Tester\n",
            "\n",
            "automation                          28.61\n",
            "test                                27.03\n",
            "testing                             25.25\n",
            "tester                              18.95\n",
            "automation tester                   15.88\n",
            "software                            14.35\n",
            "quality                             12.20\n",
            "analyst                             11.75\n",
            "qa                                  11.66\n",
            "development                         11.56\n",
            "    \n",
            "\n",
            "===\n",
            "Electrical Engineer\n",
            "\n",
            "electrical                          26.83\n",
            "engineer                            21.73\n",
            "design                              20.62\n",
            "electrical engineer                 15.11\n",
            "systems                             14.88\n",
            "controls                            14.23\n",
            "power                               13.80\n",
            "control                             13.02\n",
            "communication                       12.26\n",
            "engineering                         10.82\n",
            "    \n",
            "\n",
            "===\n",
            "Operations Manager\n",
            "\n",
            "operations                          21.42\n",
            "manager                             17.39\n",
            "management                          16.98\n",
            "operations manager                  16.01\n",
            "communication                       11.06\n",
            "written                             7.88\n",
            "microsoft                           7.61\n",
            "office                              7.51\n",
            "leadership                          7.42\n",
            "business                            7.30\n",
            "    \n",
            "\n",
            "===\n",
            "Network Security Engineer\n",
            "\n",
            "security                            37.57\n",
            "network                             23.34\n",
            "engineer                            15.77\n",
            "information                         15.16\n",
            "network security                    15.11\n",
            "security engineer                   14.55\n",
            "management                          12.91\n",
            "cyber                               11.72\n",
            "network security engineer           11.39\n",
            "systems                             10.97\n",
            "    \n",
            "\n",
            "===\n",
            "Product Manager\n",
            "\n",
            "product                             33.84\n",
            "product manager                     20.83\n",
            "manager                             20.80\n",
            "management                          17.20\n",
            "product management                  10.91\n",
            "business                            10.33\n",
            "development                         10.20\n",
            "technical                           10.09\n",
            "communication                       10.05\n",
            "data                                9.88\n",
            "    \n"
          ]
        }
      ]
    },
    {
      "cell_type": "code",
      "source": [
        "def split_train_test(dataset_df, y, test_size=0.2):\n",
        "    # remove types occur only ones\n",
        "    temp_df = dataset_df[y.isin(y.value_counts()[y.value_counts()>1].index)]\n",
        "    return train_test_split(temp_df, stratify=y, test_size=test_size, random_state=42)"
      ],
      "metadata": {
        "id": "7eafyA3eprES"
      },
      "execution_count": 94,
      "outputs": []
    },
    {
      "cell_type": "code",
      "source": [
        "train, test = split_train_test(dataset_df, dataset_df['job_category'], test_size=0.2)"
      ],
      "metadata": {
        "id": "edo_EqA-LOnC"
      },
      "execution_count": null,
      "outputs": []
    },
    {
      "cell_type": "code",
      "source": [
        "pipeline = Pipeline([\n",
        "    ('tfidf', TfidfVectorizer(max_features=2000, )),\n",
        "    ('clf', MultinomialNB(fit_prior=True, class_prior=None)),\n",
        "])\n",
        "\n",
        "parameters = {\n",
        "    'tfidf__ngram_range': [(1, 2)],\n",
        "    'clf__alpha': (1e-2, 1e-3)\n",
        "}\n",
        "\n",
        "nb_pipeline = tune_pipeline(pipeline, parameters, train['info'], train['job_category'], n_splits=5)\n",
        "print(nb_pipeline.steps)\n",
        "joblib.dump(nb_pipeline, './nb_pipeline.joblib')\n",
        "\n",
        "pred = nb_pipeline.predict(test['info'])\n",
        "\n",
        "print(classification_report(test['job_category'], pred))"
      ],
      "metadata": {
        "colab": {
          "base_uri": "https://localhost:8080/"
        },
        "id": "3Tj_i1nHp8MK",
        "outputId": "6595fc38-7fb6-4ce8-9286-c1bbfb31fc37"
      },
      "execution_count": 96,
      "outputs": [
        {
          "output_type": "stream",
          "name": "stdout",
          "text": [
            "Fitting 2 folds for each of 2 candidates, totalling 4 fits\n",
            "[('tfidf', TfidfVectorizer(max_features=2000, ngram_range=(1, 2))), ('clf', MultinomialNB(alpha=0.01))]\n",
            "                           precision    recall  f1-score   support\n",
            "\n",
            "                   Artist       0.71      0.54      0.61        54\n",
            "        Automation Tester       0.81      0.82      0.81        77\n",
            "         Business Analyst       0.78      0.95      0.86        79\n",
            "           Civil Engineer       0.89      0.94      0.91        77\n",
            "           Data Scientist       0.85      0.75      0.79        59\n",
            "      Electrical Engineer       0.79      0.75      0.77        81\n",
            "                       HR       0.73      0.61      0.67        70\n",
            "                   Lawyer       1.00      0.92      0.96        61\n",
            "      Mechanical Engineer       0.77      0.91      0.84        78\n",
            "Network Security Engineer       0.87      1.00      0.93        65\n",
            "       Operations Manager       0.69      0.84      0.76        62\n",
            "          Product Manager       0.88      0.94      0.91        67\n",
            "                 Salesman       0.64      0.74      0.68        38\n",
            "       Software Developer       0.55      0.37      0.44        65\n",
            "             Web Designer       0.83      0.73      0.78        75\n",
            "\n",
            "                 accuracy                           0.79      1008\n",
            "                macro avg       0.78      0.79      0.78      1008\n",
            "             weighted avg       0.79      0.79      0.79      1008\n",
            "\n"
          ]
        }
      ]
    },
    {
      "cell_type": "markdown",
      "source": [
        "### Logistic Regression"
      ],
      "metadata": {
        "id": "ZOM4t1KK7VGt"
      }
    },
    {
      "cell_type": "code",
      "source": [
        "pipeline = Pipeline([\n",
        "    ('tfidf', TfidfVectorizer(max_features=2000, )),\n",
        "    ('clf', LogisticRegression(solver='sag')),\n",
        "])\n",
        "parameters = {\n",
        "    'tfidf__ngram_range': [(1, 2)],\n",
        "    \"clf__C\": [0.01, 0.1, 1],\n",
        "    \"clf__class_weight\": ['balanced', None],\n",
        "}\n",
        "\n",
        "logistic_regression_pipeline = tune_pipeline(pipeline, parameters, train['info'], train['job_category'], n_splits=5)\n",
        "print(logistic_regression_pipeline.steps)\n",
        "joblib.dump(logistic_regression_pipeline, './logistic_regression_pipeline.joblib')\n",
        "\n",
        "pred = logistic_regression_pipeline.predict(test['info'])\n",
        "print(classification_report(test['job_category'], pred))"
      ],
      "metadata": {
        "colab": {
          "base_uri": "https://localhost:8080/"
        },
        "id": "Oy2FJEhX7GGH",
        "outputId": "f90eec9f-7169-46bf-da3e-e43b83e69fee"
      },
      "execution_count": 97,
      "outputs": [
        {
          "output_type": "stream",
          "name": "stdout",
          "text": [
            "Fitting 2 folds for each of 6 candidates, totalling 12 fits\n",
            "[('tfidf', TfidfVectorizer(max_features=2000, ngram_range=(1, 2))), ('clf', LogisticRegression(C=1, solver='sag'))]\n",
            "                           precision    recall  f1-score   support\n",
            "\n",
            "                   Artist       0.72      0.67      0.69        54\n",
            "        Automation Tester       0.87      0.94      0.90        77\n",
            "         Business Analyst       0.86      0.99      0.92        79\n",
            "           Civil Engineer       0.97      0.95      0.96        77\n",
            "           Data Scientist       0.91      0.73      0.81        59\n",
            "      Electrical Engineer       0.87      0.94      0.90        81\n",
            "                       HR       0.82      0.76      0.79        70\n",
            "                   Lawyer       1.00      0.98      0.99        61\n",
            "      Mechanical Engineer       0.90      0.95      0.92        78\n",
            "Network Security Engineer       0.94      1.00      0.97        65\n",
            "       Operations Manager       0.89      0.90      0.90        62\n",
            "          Product Manager       0.98      0.94      0.96        67\n",
            "                 Salesman       0.78      0.92      0.84        38\n",
            "       Software Developer       0.58      0.49      0.53        65\n",
            "             Web Designer       0.88      0.84      0.86        75\n",
            "\n",
            "                 accuracy                           0.87      1008\n",
            "                macro avg       0.86      0.87      0.86      1008\n",
            "             weighted avg       0.87      0.87      0.87      1008\n",
            "\n"
          ]
        }
      ]
    },
    {
      "cell_type": "markdown",
      "source": [
        "### DecisionTreeClassifier"
      ],
      "metadata": {
        "id": "UEiq2op_7uxl"
      }
    },
    {
      "cell_type": "code",
      "source": [
        "pipeline = Pipeline([\n",
        "    ('tfidf', TfidfVectorizer(max_features=2000, )),\n",
        "    ('clf', DecisionTreeClassifier()),\n",
        "])\n",
        "parameters = {\n",
        "    'tfidf__ngram_range': [(1, 2), (1, 3)],\n",
        "    \"clf__class_weight\": ['balanced', None],\n",
        "}\n",
        "\n",
        "decision_tree_pipeline = tune_pipeline(pipeline, parameters, train['info'], train['job_category'], n_splits=5)\n",
        "print(decision_tree_pipeline.steps)\n",
        "joblib.dump(decision_tree_pipeline, './decision_tree_pipeline.joblib')\n",
        "\n",
        "pred = decision_tree_pipeline.predict(test['info'])\n",
        "print(classification_report(test['job_category'], pred))"
      ],
      "metadata": {
        "colab": {
          "base_uri": "https://localhost:8080/"
        },
        "id": "ddUPjb8n7uVJ",
        "outputId": "a7fe85f9-6076-41d0-ec8d-2990ca29be0c"
      },
      "execution_count": 98,
      "outputs": [
        {
          "output_type": "stream",
          "name": "stdout",
          "text": [
            "Fitting 2 folds for each of 4 candidates, totalling 8 fits\n",
            "[('tfidf', TfidfVectorizer(max_features=2000, ngram_range=(1, 2))), ('clf', DecisionTreeClassifier())]\n",
            "                           precision    recall  f1-score   support\n",
            "\n",
            "                   Artist       0.77      0.61      0.68        54\n",
            "        Automation Tester       0.93      0.91      0.92        77\n",
            "         Business Analyst       0.88      0.99      0.93        79\n",
            "           Civil Engineer       0.92      0.92      0.92        77\n",
            "           Data Scientist       0.78      0.80      0.79        59\n",
            "      Electrical Engineer       0.90      0.79      0.84        81\n",
            "                       HR       0.67      0.64      0.66        70\n",
            "                   Lawyer       0.98      0.98      0.98        61\n",
            "      Mechanical Engineer       0.83      0.90      0.86        78\n",
            "Network Security Engineer       0.90      0.94      0.92        65\n",
            "       Operations Manager       0.83      0.87      0.85        62\n",
            "          Product Manager       0.91      0.93      0.92        67\n",
            "                 Salesman       0.75      0.87      0.80        38\n",
            "       Software Developer       0.44      0.45      0.44        65\n",
            "             Web Designer       0.89      0.83      0.86        75\n",
            "\n",
            "                 accuracy                           0.83      1008\n",
            "                macro avg       0.83      0.83      0.83      1008\n",
            "             weighted avg       0.83      0.83      0.83      1008\n",
            "\n"
          ]
        }
      ]
    },
    {
      "cell_type": "markdown",
      "source": [
        "### LinearSVC classifier"
      ],
      "metadata": {
        "id": "-rdHLver8E1k"
      }
    },
    {
      "cell_type": "code",
      "source": [
        "pipeline = Pipeline([\n",
        "    ('tfidf', TfidfVectorizer(max_features=2000, )),\n",
        "    ('clf', LinearSVC(multi_class='ovr'))\n",
        "])\n",
        "\n",
        "parameters = {\n",
        "    'tfidf__ngram_range': [(1, 2)],\n",
        "    \"clf__C\": [0.01, 0.1, 1],\n",
        "    \"clf__class_weight\": ['balanced', None],\n",
        "}\n",
        "\n",
        "linear_svc_pipeline = tune_pipeline(pipeline, parameters, train['info'], train['job_category'], n_splits=5)\n",
        "print(linear_svc_pipeline.steps)\n",
        "joblib.dump(linear_svc_pipeline, './linear_svc_pipeline.joblib')\n",
        "\n",
        "pred = linear_svc_pipeline.predict(test['info'])\n",
        "print(classification_report(test['job_category'], pred))"
      ],
      "metadata": {
        "colab": {
          "base_uri": "https://localhost:8080/"
        },
        "id": "07YODxeH8HzB",
        "outputId": "bb667bdc-a65e-4e12-8046-8f63b00afaa1"
      },
      "execution_count": 99,
      "outputs": [
        {
          "output_type": "stream",
          "name": "stdout",
          "text": [
            "Fitting 2 folds for each of 6 candidates, totalling 12 fits\n",
            "[('tfidf', TfidfVectorizer(max_features=2000, ngram_range=(1, 2))), ('clf', LinearSVC(C=1, class_weight='balanced'))]\n",
            "                           precision    recall  f1-score   support\n",
            "\n",
            "                   Artist       0.75      0.78      0.76        54\n",
            "        Automation Tester       0.90      0.96      0.93        77\n",
            "         Business Analyst       0.87      0.99      0.92        79\n",
            "           Civil Engineer       0.97      0.94      0.95        77\n",
            "           Data Scientist       0.91      0.73      0.81        59\n",
            "      Electrical Engineer       0.89      0.90      0.90        81\n",
            "                       HR       0.85      0.74      0.79        70\n",
            "                   Lawyer       1.00      1.00      1.00        61\n",
            "      Mechanical Engineer       0.89      0.94      0.91        78\n",
            "Network Security Engineer       0.96      1.00      0.98        65\n",
            "       Operations Manager       0.89      0.90      0.90        62\n",
            "          Product Manager       0.97      0.93      0.95        67\n",
            "                 Salesman       0.71      0.89      0.79        38\n",
            "       Software Developer       0.58      0.49      0.53        65\n",
            "             Web Designer       0.85      0.85      0.85        75\n",
            "\n",
            "                 accuracy                           0.87      1008\n",
            "                macro avg       0.87      0.87      0.87      1008\n",
            "             weighted avg       0.87      0.87      0.87      1008\n",
            "\n"
          ]
        }
      ]
    },
    {
      "cell_type": "code",
      "source": [
        "glassdoor_df = pd.read_csv('./glassdoor_req.csv')"
      ],
      "metadata": {
        "id": "0d9VtysJupsm"
      },
      "execution_count": null,
      "outputs": []
    },
    {
      "cell_type": "code",
      "source": [
        "glassdoor_df['info'] = dataset_df.apply(lambda x: tokenizer(x.SKILLS, x.job_title), axis=1)"
      ],
      "metadata": {
        "id": "U_uUh55cwBcm"
      },
      "execution_count": null,
      "outputs": []
    },
    {
      "cell_type": "code",
      "source": [
        "glassdoor_df = glassdoor_df[glassdoor_df[\"info\"] != 'nan']"
      ],
      "metadata": {
        "id": "mxmPfJf5LrPG"
      },
      "execution_count": null,
      "outputs": []
    },
    {
      "cell_type": "code",
      "source": [
        "pred = nb_pipeline.predict(glassdoor_df['info'])"
      ],
      "metadata": {
        "id": "fMrEzz-_Lxi5"
      },
      "execution_count": null,
      "outputs": []
    },
    {
      "cell_type": "code",
      "source": [
        "category_column = pd.DataFrame({'category': list(pred)})\n",
        "glassdoor_df = glassdoor_df.merge(category_column, left_index = True, right_index = True)\n",
        "glassdoor_df.to_csv('grassdoor_req.csv', index = False)"
      ],
      "metadata": {
        "id": "v8y3d6-dwrlX"
      },
      "execution_count": null,
      "outputs": []
    }
  ]
}
