{
 "cells": [
  {
   "cell_type": "code",
   "execution_count": 3,
   "id": "15def8d6",
   "metadata": {},
   "outputs": [],
   "source": [
    "import csv\n",
    "\n"
   ]
  },
  {
   "cell_type": "code",
   "execution_count": 4,
   "id": "a3eb9b26",
   "metadata": {},
   "outputs": [],
   "source": [
    "with open(\"../csvfile_category/linkedin_req_1124.csv\", 'r') as input, open('../csvfile_category/linkedin_req.csv', 'w') as output:\n",
    "    reader = csv.reader(input, delimiter = ',')\n",
    "    writer = csv.writer(output, delimiter = ',')\n",
    "\n",
    "    all = []\n",
    "    row = next(reader)\n",
    "    row.insert(0, 'ID')\n",
    "    all.append(row)\n",
    "    for k, row in enumerate(reader):\n",
    "        all.append([str(k+1)] + row)\n",
    "    writer.writerows(all)"
   ]
  },
  {
   "cell_type": "code",
   "execution_count": 5,
   "id": "4b70e178",
   "metadata": {},
   "outputs": [],
   "source": [
    "with open(\"../csvfile_category/glassdoor_req_1124.csv\", 'r') as input, open('../csvfile_category/glassdoor_req.csv', 'w') as output:\n",
    "    reader = csv.reader(input, delimiter = ',')\n",
    "    writer = csv.writer(output, delimiter = ',')\n",
    "\n",
    "    all = []\n",
    "    row = next(reader)\n",
    "    row.insert(0, 'ID')\n",
    "    all.append(row)\n",
    "    for k, row in enumerate(reader):\n",
    "        all.append([str(k+1)] + row)\n",
    "    writer.writerows(all)"
   ]
  },
  {
   "cell_type": "code",
   "execution_count": 4,
   "id": "a6507a68",
   "metadata": {},
   "outputs": [],
   "source": [
    "with open(\"../csvfile_category/glassdoor_company.csv\", 'r') as input, open('../csvfile_category/glassdoor_company_withid.csv', 'w') as output:\n",
    "    reader = csv.reader(input, delimiter = ',')\n",
    "    writer = csv.writer(output, delimiter = ',')\n",
    "\n",
    "    all = []\n",
    "    row = next(reader)\n",
    "    row.insert(0, 'ID')\n",
    "    all.append(row)\n",
    "    for k, row in enumerate(reader):\n",
    "        all.append([str(k+1)] + row)\n",
    "    writer.writerows(all)"
   ]
  },
  {
   "cell_type": "code",
   "execution_count": 5,
   "id": "7821590b",
   "metadata": {},
   "outputs": [],
   "source": [
    "with open(\"../csvfile_category/linkedin_company_update.csv\", 'r') as input, open('../csvfile_category/linkedin_company_withid.csv', 'w') as output:\n",
    "    reader = csv.reader(input, delimiter = ',')\n",
    "    writer = csv.writer(output, delimiter = ',')\n",
    "\n",
    "    all = []\n",
    "    row = next(reader)\n",
    "    row.insert(0, 'ID')\n",
    "    all.append(row)\n",
    "    for k, row in enumerate(reader):\n",
    "        all.append([str(k+1)] + row)\n",
    "    writer.writerows(all)"
   ]
  },
  {
   "cell_type": "code",
   "execution_count": 10,
   "id": "66de59e7",
   "metadata": {},
   "outputs": [],
   "source": [
    "import csv\n",
    "with open(\"../csvfile_category/company_full1.csv\", 'r') as input, open('../csvfile_category/company_full2.csv', 'w') as output:\n",
    "    reader = csv.reader(input, delimiter = ',')\n",
    "    writer = csv.writer(output, delimiter = ',')\n",
    "\n",
    "    all = []\n",
    "    row = next(reader)\n",
    "    row.insert(0, 'ID')\n",
    "    all.append(row)\n",
    "    for k, row in enumerate(reader):\n",
    "        all.append([str(k+1)] + row)\n",
    "    writer.writerows(all)"
   ]
  },
  {
   "cell_type": "code",
   "execution_count": 12,
   "id": "e7d0322f",
   "metadata": {},
   "outputs": [],
   "source": [
    "with open(\"../csvfile_category/job_positions_full1.csv\", 'r') as input, open('../csvfile_category/job_positions_full2.csv', 'w') as output:\n",
    "    reader = csv.reader(input, delimiter = ',')\n",
    "    writer = csv.writer(output, delimiter = ',')\n",
    "\n",
    "    all = []\n",
    "    row = next(reader)\n",
    "    row.insert(0, 'ID')\n",
    "    all.append(row)\n",
    "    for k, row in enumerate(reader):\n",
    "        all.append([str(k+1)] + row)\n",
    "    writer.writerows(all)"
   ]
  },
  {
   "cell_type": "code",
   "execution_count": null,
   "id": "4ddc5793",
   "metadata": {},
   "outputs": [],
   "source": []
  }
 ],
 "metadata": {
  "kernelspec": {
   "display_name": "Python 3 (ipykernel)",
   "language": "python",
   "name": "python3"
  },
  "language_info": {
   "codemirror_mode": {
    "name": "ipython",
    "version": 3
   },
   "file_extension": ".py",
   "mimetype": "text/x-python",
   "name": "python",
   "nbconvert_exporter": "python",
   "pygments_lexer": "ipython3",
   "version": "3.9.0"
  }
 },
 "nbformat": 4,
 "nbformat_minor": 5
}
