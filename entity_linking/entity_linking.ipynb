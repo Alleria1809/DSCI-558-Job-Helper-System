{
 "cells": [
  {
   "cell_type": "code",
   "execution_count": 1,
   "id": "fd3769cd",
   "metadata": {},
   "outputs": [],
   "source": [
    "import rltk\n",
    "import csv\n",
    "from datetime import datetime\n",
    "tokenizer = rltk.tokenizer.crf_tokenizer.crf_tokenizer.CrfTokenizer()"
   ]
  },
  {
   "cell_type": "code",
   "execution_count": 2,
   "id": "c5db59f2",
   "metadata": {},
   "outputs": [],
   "source": [
    "import re\n",
    "def cleantitle(title):\n",
    "    title = title.lower()\n",
    "    title = re.sub(r\"\\(.*\\)\", \"\", title)\n",
    "    title = \" \".join([x for x in title.split() if not any(c.isdigit() for c in x)])\n",
    "    \n",
    "    title = title.replace(\"full time\", \"\").replace(\"part time\", \"\").replace(\"full-time\", \"\").replace(\"part-time\", \"\")\n",
    "    title = title.replace(\"|\", \"-\")\n",
    "    titlelist = title.split(\"-\")\n",
    "    '''longest = 0\n",
    "    title = \"\"\n",
    "    for token in titlelist:\n",
    "        if len(token) > longest:\n",
    "            longest = len(token)\n",
    "            title = token'''\n",
    "    possibleword = [\"service\", \"associate\", \"representative\", \"clerk\"]\n",
    "    char3 = [\"ent\", \"ant\"]\n",
    "    char2 = [\"or\", \"er\", \"st\"]\n",
    "    if len(titlelist) == 0:\n",
    "        return titlelist[0]\n",
    "    for token in titlelist:\n",
    "        s = token.strip()\n",
    "        if s.split(\" \")[-1] in possibleword or s.split(\" \")[-1][-2:] in char2 or s.split(\" \")[-1][-3:] in char3:\n",
    "            title = token\n",
    "    return title"
   ]
  },
  {
   "cell_type": "code",
   "execution_count": 4,
   "id": "10f23187",
   "metadata": {},
   "outputs": [
    {
     "name": "stdout",
     "output_type": "stream",
     "text": [
      "legal assistant/scheduler\n"
     ]
    }
   ],
   "source": [
    "a = \"Legal Assistant/Scheduler (Orlando)\"\n",
    "print(cleantitle(a))"
   ]
  },
  {
   "cell_type": "code",
   "execution_count": 6,
   "id": "61e6172a",
   "metadata": {},
   "outputs": [],
   "source": [
    "class glassdoorRecord(rltk.Record):\n",
    "    def __init__(self, raw_object):\n",
    "        super().__init__(raw_object)\n",
    "        self.name = ''\n",
    "\n",
    "    @rltk.cached_property\n",
    "    def id(self):\n",
    "        return self.raw_object['ID']\n",
    "    \n",
    "    # attribute 1: job title\n",
    "    @rltk.cached_property\n",
    "    def title_string(self):\n",
    "        title = cleantitle(self.raw_object['job_title'])\n",
    "        return title\n",
    "    \n",
    "    # attribute 2: title tokens\n",
    "    @rltk.cached_property\n",
    "    def title_tokens(self):\n",
    "        return set(tokenizer.tokenize(self.title_string))\n",
    "    \n",
    "    # attribute 3: company name\n",
    "    @rltk.cached_property\n",
    "    def company_string(self):\n",
    "        return self.raw_object['company_name']\n",
    "    \n",
    "    # attribute 4: location (city)\n",
    "    @rltk.cached_property\n",
    "    def city_string(self):\n",
    "        return self.raw_object['city']\n",
    "    \n",
    "    # attribute 5: last three characters in job title\n",
    "    @rltk.cached_property\n",
    "    def last3title(self):\n",
    "        chars = self.title_string[-3:]\n",
    "        return chars\n",
    "\n",
    "class linkedinRecord(rltk.Record):\n",
    "    def __init__(self, raw_object):\n",
    "        super().__init__(raw_object)\n",
    "        self.name = ''\n",
    "\n",
    "    @rltk.cached_property\n",
    "    def id(self):\n",
    "        return self.raw_object['ID']\n",
    "    \n",
    "    # attribute 1: job title\n",
    "    @rltk.cached_property\n",
    "    def title_string(self):\n",
    "        title = cleantitle(self.raw_object['job_title'])\n",
    "        return title\n",
    "    \n",
    "    # attribute 2: title tokens\n",
    "    @rltk.cached_property\n",
    "    def title_tokens(self):\n",
    "        return set(tokenizer.tokenize(self.title_string))\n",
    "    \n",
    "    # attribute 3: company name\n",
    "    @rltk.cached_property\n",
    "    def company_string(self):\n",
    "        return self.raw_object['company_name']\n",
    "    \n",
    "    # attribute 4: location (city)\n",
    "    @rltk.cached_property\n",
    "    def city_string(self):\n",
    "        return self.raw_object['city']\n",
    "    \n",
    "    # attribute 5: last three characters in job title\n",
    "    @rltk.cached_property\n",
    "    def last3title(self):\n",
    "        chars = self.title_string[-3:]\n",
    "        return chars"
   ]
  },
  {
   "cell_type": "code",
   "execution_count": 7,
   "id": "1ec528f2",
   "metadata": {},
   "outputs": [],
   "source": [
    "dir_ = '../csvfile_category/'\n",
    "glassdoor_file = dir_ + 'glassdoor_req.csv'\n",
    "linkedin_file = dir_ + 'linkedin_req.csv'\n",
    "\n",
    "ds_glassdoor = rltk.Dataset(rltk.CSVReader(glassdoor_file),record_class=glassdoorRecord)\n",
    "ds_linkedin = rltk.Dataset(rltk.CSVReader(linkedin_file),record_class=linkedinRecord)"
   ]
  },
  {
   "cell_type": "code",
   "execution_count": 8,
   "id": "61455c47",
   "metadata": {},
   "outputs": [],
   "source": [
    "df_glassdoor = ds_glassdoor.generate_dataframe()\n",
    "df_linkedin = ds_linkedin.generate_dataframe()"
   ]
  },
  {
   "cell_type": "markdown",
   "id": "fad415a7",
   "metadata": {},
   "source": [
    "### blocking"
   ]
  },
  {
   "cell_type": "code",
   "execution_count": 9,
   "id": "68e7d59b",
   "metadata": {},
   "outputs": [],
   "source": [
    "bg = rltk.HashBlockGenerator()\n",
    "\n",
    "block = bg.generate(\n",
    "    bg.block(ds_glassdoor, property_=\"city_string\"),\n",
    "    bg.block(ds_linkedin, property_=\"city_string\")\n",
    ")"
   ]
  },
  {
   "cell_type": "markdown",
   "id": "174c075e",
   "metadata": {},
   "source": [
    "### entity linking"
   ]
  },
  {
   "cell_type": "code",
   "execution_count": 10,
   "id": "2c114608",
   "metadata": {},
   "outputs": [],
   "source": [
    "def title_string_similarity(s1, s2):\n",
    "    return rltk.jaro_winkler_similarity(s1, s2)\n",
    "    \n",
    "def company_string_similarity(s1, s2):\n",
    "    return 1-rltk.levenshtein_distance(s1, s2)\n",
    "\n",
    "def city_string_similarity(s1, s2):\n",
    "    if s1 == s2:\n",
    "        return 1\n",
    "    return 0"
   ]
  },
  {
   "cell_type": "code",
   "execution_count": 15,
   "id": "b0729897",
   "metadata": {},
   "outputs": [],
   "source": [
    "# threshold value to determine if we are confident the record match\n",
    "MY_TRESH = 0.93\n",
    "\n",
    "# entity linkage scoring function\n",
    "def rule_based_method(r1, r2):\n",
    "    score_1 = title_string_similarity(r1.title_string, r2.title_string)\n",
    "    score_2 = company_string_similarity(r1.company_string, r2.company_string)\n",
    "    #score_3 = city_string_similarity(r1.city_string, r2.city_string)\n",
    "    total = 0.65 * score_1 + 0.35 * score_2\n",
    "    \n",
    "    # return two values: boolean if they match or not, float to determine confidence\n",
    "    return total > MY_TRESH, total"
   ]
  },
  {
   "cell_type": "code",
   "execution_count": 16,
   "id": "ced294b6",
   "metadata": {},
   "outputs": [],
   "source": [
    "matchPairs = []\n",
    "for r_glassdoor, r_linkedin in rltk.get_record_pairs(ds_glassdoor, ds_linkedin, block=block):\n",
    "    result, confidence = rule_based_method(r_glassdoor, r_linkedin)\n",
    "    if result == True:\n",
    "        matchPairs.append([r_glassdoor.id, r_linkedin.id, confidence])"
   ]
  },
  {
   "cell_type": "code",
   "execution_count": 17,
   "id": "be4d89e4",
   "metadata": {},
   "outputs": [
    {
     "data": {
      "text/plain": [
       "29"
      ]
     },
     "execution_count": 17,
     "metadata": {},
     "output_type": "execute_result"
    }
   ],
   "source": [
    "len(matchPairs)"
   ]
  },
  {
   "cell_type": "code",
   "execution_count": 18,
   "id": "f75d725e",
   "metadata": {},
   "outputs": [
    {
     "name": "stdout",
     "output_type": "stream",
     "text": [
      "['256', '766', 1.0]\n",
      "counsel, transactions ,  Cepheid ,  New York\n",
      "counsel, transactions ,  Cepheid ,  New York \n",
      "\n",
      "['464', '1326', 1.0]\n",
      "senior web designer ,  The New York Times ,  New York\n",
      "senior web designer ,  The New York Times ,  New York \n",
      "\n",
      "['85', '71', 1.0]\n",
      "data scientist ,  Matlen Silver ,  New York\n",
      "data scientist ,  Matlen Silver ,  New York \n",
      "\n",
      "['467', '1478', 1.0]\n",
      "junior graphic designer ,  Cartier ,  New York\n",
      "junior graphic designer ,  Cartier ,  New York \n",
      "\n",
      "['59', '3', 1.0]\n",
      "comcast cybersecurity: data scientist ,  Comcast ,  Washington\n",
      "comcast cybersecurity: data scientist ,  Comcast ,  Washington \n",
      "\n",
      "['1515', '262', 1.0]\n",
      "software test engineer ,  SpaceX ,  Redmond\n",
      "software test engineer ,  SpaceX ,  Redmond \n",
      "\n",
      "['1166', '3522', 0.9923529411764707]\n",
      "oracle qa tester ,  Gleeds ,  \n",
      "oracle qa tester  ,  Gleeds ,   \n",
      "\n",
      "['1580', '4919', 1.0]\n",
      "product manager ,  Act! LLC ,  \n",
      "product manager ,  Act! LLC ,   \n",
      "\n",
      "['978', '2895', 1.0]\n",
      "business analyst ll ,  Liberty Mutual Insurance ,  \n",
      "business analyst ll ,  Liberty Mutual Insurance ,   \n",
      "\n",
      "['835', '2327', 1.0]\n",
      "water resources engineer ,  California Water Service ,  San Jose\n",
      "water resources engineer ,  California Water Service ,  San Jose \n",
      "\n",
      "['1505', '4408', 1.0]\n",
      "network security engineer ,  The Hollister Group ,  Boston\n",
      "network security engineer ,  The Hollister Group ,  Boston \n",
      "\n",
      "['1411', '4442', 1.0]\n",
      "network security engineer ,  Apex Systems ,  Austin\n",
      "network security engineer ,  Apex Systems ,  Austin \n",
      "\n",
      "['777', '2227', 1.0]\n",
      "civil graduate engineer ,  WGI ,  Austin\n",
      "civil graduate engineer ,  WGI ,  Austin \n",
      "\n",
      "['1508', '4442', 0.9347111111111112]\n",
      "network engineer i ,  Apex Systems ,  Austin\n",
      "network security engineer ,  Apex Systems ,  Austin \n",
      "\n",
      "['60', '50', 1.0]\n",
      "data scientist ,  Peraton ,  Annapolis Junction\n",
      "data scientist ,  Peraton ,  Annapolis Junction \n",
      "\n",
      "['1334', '4131', 1.0]\n",
      "operations manager ,  ZSG ,  Morrisville\n",
      "operations manager ,  ZSG ,  Morrisville \n",
      "\n",
      "['1161', '3303', 1.0]\n",
      "sr. automation tester ,  Cognizant ,  Atlanta\n",
      "sr. automation tester ,  Cognizant ,  Atlanta \n",
      "\n",
      "['355', '1051', 1.0]\n",
      "artist ,  Blizzard Entertainment ,  Irvine\n",
      "artist ,  Blizzard Entertainment ,  Irvine \n",
      "\n",
      "['1138', '3412', 1.0]\n",
      "software tester  ,  Peraton ,  Herndon\n",
      "software tester  ,  Peraton ,  Herndon \n",
      "\n",
      "['1138', '3361', 1.0]\n",
      "software tester  ,  Peraton ,  Herndon\n",
      "software tester  ,  Peraton ,  Herndon \n",
      "\n",
      "['1138', '3376', 1.0]\n",
      "software tester  ,  Peraton ,  Herndon\n",
      "software tester  ,  Peraton ,  Herndon \n",
      "\n",
      "['246', '718', 0.9458333333333334]\n",
      "divorce lawyer ,  Bruce Law Firm, P.A. ,  West Palm Beach\n",
      "divorce lawyer for women ,  Bruce Law Firm, P.A. ,  West Palm Beach \n",
      "\n",
      "['455', '1374', 1.0]\n",
      "web designer i ,  Paciolan ,  Bothell\n",
      "web designer i ,  Paciolan ,  Bothell \n",
      "\n",
      "['350', '1037', 1.0]\n",
      "artist v ,  Apex Systems ,  Daly City\n",
      "artist v ,  Apex Systems ,  Daly City \n",
      "\n",
      "['1117', '3286', 1.0]\n",
      "mobile and web application penetration tester ,  GEICO ,  Chevy Chase\n",
      "mobile and web application penetration tester ,  GEICO ,  Chevy Chase \n",
      "\n",
      "['1506', '3592', 1.0]\n",
      "automated and manual tester ,  Booz Allen Hamilton ,  Chantilly\n",
      "automated and manual tester ,  Booz Allen Hamilton ,  Chantilly \n",
      "\n",
      "['1506', '3447', 1.0]\n",
      "automated and manual tester ,  Booz Allen Hamilton ,  Chantilly\n",
      "automated and manual tester ,  Booz Allen Hamilton ,  Chantilly \n",
      "\n",
      "['795', '2490', 1.0]\n",
      "civil engineer ,  RETTEW ,  State College\n",
      "civil engineer ,  RETTEW ,  State College \n",
      "\n",
      "['1134', '3632', 1.0]\n",
      "qa tester ,  Newsmax Media, Inc. ,  Boca Raton\n",
      "qa tester ,  Newsmax Media, Inc. ,  Boca Raton \n",
      "\n"
     ]
    }
   ],
   "source": [
    "for ids in matchPairs:\n",
    "    print(ids)\n",
    "    r_glassdoor = ds_glassdoor.get_record(ids[0])\n",
    "    r_linkedin = ds_linkedin.get_record(ids[1])\n",
    "    print(r_glassdoor.title_string, \", \", r_glassdoor.company_string, \", \", r_glassdoor.city_string)\n",
    "    print(r_linkedin.title_string, \", \", r_linkedin.company_string, \", \", r_linkedin.city_string, \"\\n\")"
   ]
  },
  {
   "cell_type": "code",
   "execution_count": 99,
   "id": "1e506199",
   "metadata": {},
   "outputs": [],
   "source": [
    "with open(dir_ + '../linkage_category/job_linkage.csv', mode='w') as file:\n",
    "    writer = csv.writer(file, delimiter=',', quotechar='\"', quoting=csv.QUOTE_MINIMAL)\n",
    "    writer.writerow([\"glassdoor.id\", \"linkedin.id\"])\n",
    "    for row in matchPairs:\n",
    "        writer.writerow((row[0], row[1]))"
   ]
  },
  {
   "cell_type": "code",
   "execution_count": null,
   "id": "4f75410c",
   "metadata": {},
   "outputs": [],
   "source": []
  }
 ],
 "metadata": {
  "kernelspec": {
   "display_name": "Python 3 (ipykernel)",
   "language": "python",
   "name": "python3"
  },
  "language_info": {
   "codemirror_mode": {
    "name": "ipython",
    "version": 3
   },
   "file_extension": ".py",
   "mimetype": "text/x-python",
   "name": "python",
   "nbconvert_exporter": "python",
   "pygments_lexer": "ipython3",
   "version": "3.9.0"
  }
 },
 "nbformat": 4,
 "nbformat_minor": 5
}
